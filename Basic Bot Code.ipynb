{
 "cells": [
  {
   "cell_type": "code",
   "execution_count": null,
   "id": "931990c4",
   "metadata": {
    "scrolled": true
   },
   "outputs": [],
   "source": [
    "!node --version\n",
    "!pip3 install kaggle-environments -U\n",
    "from kaggle_environments import make\n",
    "from lux.game import Game\n",
    "from lux.game_map import Cell, RESOURCE_TYPES, Position\n",
    "from lux.constants import Constants\n",
    "from lux.game_constants import GAME_CONSTANTS\n",
    "from lux import annotate\n",
    "import math\n",
    "import sys\n",
    "import numpy as np\n",
    "from numpy import unravel_index"
   ]
  },
  {
   "cell_type": "code",
   "execution_count": null,
   "id": "f1574f47",
   "metadata": {
    "pycharm": {
     "name": "#%%\n"
    }
   },
   "outputs": [],
   "source": [
    "# CONSTANTS\n",
    "CITY_TO_RESOURCE_MULTIPLIER = .2\n",
    "CITY_TO_RESOURCE_MAX_RANGE = 5\n",
    "CITY_TO_CITY_MULTIPLIER = 100"
   ]
  },
  {
   "cell_type": "code",
   "execution_count": null,
   "id": "974560f6",
   "metadata": {
    "pycharm": {
     "name": "#%%\n"
    }
   },
   "outputs": [],
   "source": [
    "def create_city_heatmap(game_state):\n",
    "    width, height = game_state.map_width, game_state.map_height\n",
    "    heatmap = [[0 for y in range(width)] for x in range(width)]\n",
    "    for y in range(height):\n",
    "        for x in range(width):\n",
    "            curPos = Position(x,y)\n",
    "            city_positions = get_postions_within_distance(curPos, game_state)\n",
    "            res_positions = get_postions_within_distance(curPos, game_state, CITY_TO_RESOURCE_MAX_RANGE)\n",
    "            for i in res_positions:\n",
    "                cell = game_state.map.get_cell_by_pos(i)\n",
    "                if cell.has_resource():\n",
    "                    heatmap[x][y] +=  curPos.distance_to(i) / CITY_TO_RESOURCE_MULTIPLIER\n",
    "            for i in city_positions:\n",
    "                cell = game_state.map.get_cell_by_pos(i)\n",
    "                if cell.citytile is not None:\n",
    "                    heatmap[x][y] += CITY_TO_CITY_MULTIPLIER\n",
    "    return heatmap\n",
    "# put a score to every tile based off\n",
    "# of distance from resources, unit, and adjacency to cities\n",
    "def find_best_city_to_build(pos, game_state):\n",
    "    heatmap = create_city_heatmap(game_state)\n",
    "    max_val = -1\n",
    "    max_ind = [0,0]\n",
    "    for x in range(len(heatmap)):\n",
    "        for y in range(len(heatmap[x])):\n",
    "            if heatmap[x][y] > max_val:\n",
    "                max_ind = [x,y]\n",
    "                max_val = heatmap[x][y]\n",
    "    return Position(max_ind[0],max_ind[1])\n",
    "#get max of create_city_heatmap\n",
    "def move_unit(pos, dest):\n",
    "    pass\n",
    "#collision safe move\n"
   ]
  },
  {
   "cell_type": "code",
   "execution_count": null,
   "id": "90a3744a",
   "metadata": {
    "pycharm": {
     "name": "#%%\n"
    }
   },
   "outputs": [],
   "source": [
    "def get_postions_within_distance(pos, game_state,dist = 1):\n",
    "    max_width, max_height = game_state.map_width, game_state.map_height\n",
    "    retVal = []\n",
    "    for i in range(-dist, dist+1):\n",
    "        temp = dist - abs(i)\n",
    "        for j in range(-temp,temp+1):\n",
    "            x = pos.x + i\n",
    "            y = pos.y + j\n",
    "            if 0 <= x < max_width and  0 <= y < max_height:\n",
    "                retVal.append(Position(x,y))\n",
    "    del retVal[0] # don't return the start tile\n",
    "    return retVal\n",
    "\n"
   ]
  },
  {
   "cell_type": "code",
   "execution_count": null,
   "id": "65932f8d",
   "metadata": {
    "pycharm": {
     "name": "#%%\n"
    }
   },
   "outputs": [],
   "source": [
    "# this snippet finds all resources stored on the map and puts them into a list so we can search over them\n",
    "def find_resources(game_state):\n",
    "    resource_tiles: list[Cell] = []\n",
    "    width, height = game_state.map_width, game_state.map_height\n",
    "    for y in range(height):\n",
    "        for x in range(width):\n",
    "            cell = game_state.map.get_cell(x, y)\n",
    "            if cell.has_resource():\n",
    "                resource_tiles.append(cell)\n",
    "    return resource_tiles\n",
    "def find_empty_tiles(game_state):\n",
    "    empty_tiles: list[Cell] = []\n",
    "    width, height = game_state.map_width, game_state.map_height\n",
    "    for y in range(height):\n",
    "        for x in range(width):\n",
    "            cell = game_state.map.get_cell(x, y)\n",
    "            if not cell.has_resource() and cell.citytile == None:\n",
    "                empty_tiles.append(cell)\n",
    "    return empty_tiles\n",
    "\n",
    "# the next snippet finds the closest resources that we can mine given position on a map\n",
    "def find_closest_resources(pos, player, resource_tiles):\n",
    "    closest_dist = math.inf\n",
    "    closest_resource_tile = None\n",
    "    for resource_tile in resource_tiles:\n",
    "        # we skip over resources that we can't mine due to not having researched them\n",
    "        if resource_tile.resource.type == Constants.RESOURCE_TYPES.COAL and not player.researched_coal(): continue\n",
    "        if resource_tile.resource.type == Constants.RESOURCE_TYPES.URANIUM and not player.researched_uranium(): continue\n",
    "        dist = resource_tile.pos.distance_to(pos)\n",
    "        if dist < closest_dist:\n",
    "            closest_dist = dist\n",
    "            closest_resource_tile = resource_tile\n",
    "    return closest_resource_tile\n",
    "\n",
    "def find_closest_city_tile(pos, player):\n",
    "    closest_city_tile = None\n",
    "    if len(player.cities) > 0:\n",
    "        closest_dist = math.inf\n",
    "        # the cities are stored as a dictionary mapping city id to the city object, which has a citytiles field that\n",
    "        # contains the information of all citytiles in that city\n",
    "        for k, city in player.cities.items():\n",
    "            for city_tile in city.citytiles:\n",
    "                dist = city_tile.pos.distance_to(pos)\n",
    "                if dist < closest_dist:\n",
    "                    closest_dist = dist\n",
    "                    closest_city_tile = city_tile\n",
    "    return closest_city_tile\n",
    "def find_closest_empty_tile(pos, empty_tiles):\n",
    "    closest_empty_tile = None\n",
    "    closest_dist = math.inf\n",
    "    for empty_tile in empty_tiles:\n",
    "        dist = empty_tile.pos.distance_to(pos)\n",
    "        if dist < closest_dist:\n",
    "            closest_dist = dist\n",
    "            closest_empty_tile = empty_tile\n",
    "    return closest_empty_tile\n",
    "\n",
    "def count_total_city_tiles(player):\n",
    "    count = 0\n",
    "    for city_id, city in player.cities.items():\n",
    "        count += len(city.citytiles)\n",
    "    return count\n",
    "        \n",
    "\n",
    "game_state = None\n",
    "def agent(observation, configuration):\n",
    "    global game_state\n",
    "\n",
    "    ### Do not edit ###\n",
    "    if observation[\"step\"] == 0:\n",
    "        game_state = Game()\n",
    "        game_state._initialize(observation[\"updates\"])\n",
    "        game_state._update(observation[\"updates\"][2:])\n",
    "        game_state.id = observation.player\n",
    "    else:\n",
    "        game_state._update(observation[\"updates\"])\n",
    "    \n",
    "    actions = []\n",
    "\n",
    "    ### AI Code goes down here! ### \n",
    "    player = game_state.players[observation.player]\n",
    "    opponent = game_state.players[(observation.player + 1) % 2]\n",
    "    width, height = game_state.map.width, game_state.map.height\n",
    "\n",
    "    resource_tiles = find_resources(game_state)\n",
    "    empty_tiles = find_empty_tiles(game_state)\n",
    "    \n",
    "    for city_id, city in player.cities.items():\n",
    "        for city_tile in city.citytiles:\n",
    "            if city_tile.can_act():\n",
    "                action = city_tile.build_worker()\n",
    "                actions.append(action)\n",
    "    \n",
    "    for unit in player.units:\n",
    "        # if the unit is a worker (can mine resources) and can perform an action this turn\n",
    "        if unit.is_worker() and unit.can_act():   \n",
    "            # we want to mine only if there is space left in the worker's cargo\n",
    "            if unit.get_cargo_space_left() > 0:\n",
    "                # find the closest resource if it exists to this unit\n",
    "                closest_resource_tile = find_closest_resources(unit.pos, player, resource_tiles)\n",
    "                if closest_resource_tile is not None:\n",
    "                    # create a move action to move this unit in the direction of the closest resource tile and add to our actions list\n",
    "                    action = unit.move(unit.pos.direction_to(closest_resource_tile.pos))\n",
    "                    actions.append(action)\n",
    "            else:\n",
    "                if(len(player.units) >= count_total_city_tiles(player)):\n",
    "                    closest_empty_tile = find_closest_empty_tile(unit.pos, empty_tiles)\n",
    "                    if closest_empty_tile is not None:\n",
    "                        if unit.pos == closest_empty_tile.pos:\n",
    "                            action = unit.build_city()\n",
    "                        else:\n",
    "                            action = unit.move(unit.pos.direction_to(closest_empty_tile.pos))\n",
    "                        actions.append(action)\n",
    "                else:\n",
    "                # find the closest citytile and move the unit towards it to drop resources to a citytile to fuel the city\n",
    "                    closest_city_tile = find_closest_city_tile(unit.pos, player)\n",
    "                    if closest_city_tile is not None:\n",
    "                        # create a move action to move this unit in the direction of the closest resource tile and add to our actions list\n",
    "                        action = unit.move(unit.pos.direction_to(closest_city_tile.pos))\n",
    "                        actions.append(action)\n",
    "    pos = find_best_city_to_build(\"blank\", game_state)\n",
    "    actions.append(annotate.circle(pos.x,pos.y))\n",
    "    return actions"
   ]
  },
  {
   "cell_type": "code",
   "execution_count": null,
   "id": "b4a48ec6",
   "metadata": {},
   "outputs": [],
   "source": [
    "env = make(\"lux_ai_2021\", configuration={\"seed\": 562124210, \"loglevel\": 2, \"annotations\": True}, debug=False)\n",
    "steps = env.run([agent, \"simple_agent\"])\n",
    "env.render(mode=\"ipython\", width=1200, height=800)"
   ]
  },
  {
   "cell_type": "code",
   "execution_count": null,
   "id": "4b4fef21",
   "metadata": {},
   "outputs": [],
   "source": [
    "%%writefile agent.py\n",
    "from lux.game import Game\n",
    "from lux.game_map import Cell, RESOURCE_TYPES, Position\n",
    "from lux.constants import Constants\n",
    "from lux.game_constants import GAME_CONSTANTS\n",
    "from lux import annotate\n",
    "import math\n",
    "\n",
    "# All code goes here"
   ]
  },
  {
   "cell_type": "code",
   "execution_count": null,
   "id": "14e12926",
   "metadata": {},
   "outputs": [],
   "source": [
    "!tar -czf submission.tar.gz *"
   ]
  }
 ],
 "metadata": {
  "kernelspec": {
   "display_name": "Anaconda (base)",
   "language": "python",
   "name": "anaconda-base"
  },
  "language_info": {
   "codemirror_mode": {
    "name": "ipython",
    "version": 3
   },
   "file_extension": ".py",
   "mimetype": "text/x-python",
   "name": "python",
   "nbconvert_exporter": "python",
   "pygments_lexer": "ipython3",
   "version": "3.8.8"
  },
  "varInspector": {
   "cols": {
    "lenName": 16,
    "lenType": 16,
    "lenVar": 40
   },
   "kernels_config": {
    "python": {
     "delete_cmd_postfix": "",
     "delete_cmd_prefix": "del ",
     "library": "var_list.py",
     "varRefreshCmd": "print(var_dic_list())"
    },
    "r": {
     "delete_cmd_postfix": ") ",
     "delete_cmd_prefix": "rm(",
     "library": "var_list.r",
     "varRefreshCmd": "cat(var_dic_list()) "
    }
   },
   "types_to_exclude": [
    "module",
    "function",
    "builtin_function_or_method",
    "instance",
    "_Feature"
   ],
   "window_display": false
  }
 },
 "nbformat": 4,
 "nbformat_minor": 5
}